{
  "nbformat": 4,
  "nbformat_minor": 0,
  "metadata": {
    "colab": {
      "name": "Copy of DogvsCat_CNN.ipynb",
      "provenance": [],
      "collapsed_sections": [],
      "toc_visible": true,
      "include_colab_link": true
    },
    "kernelspec": {
      "name": "python3",
      "display_name": "Python 3"
    },
    "accelerator": "GPU"
  },
  "cells": [
    {
      "cell_type": "markdown",
      "metadata": {
        "id": "view-in-github",
        "colab_type": "text"
      },
      "source": [
        "<a href=\"https://colab.research.google.com/github/poojadhameliya01/CE888-7-SP/blob/main/Lab_7/DogvsCat_CNN.ipynb\" target=\"_parent\"><img src=\"https://colab.research.google.com/assets/colab-badge.svg\" alt=\"Open In Colab\"/></a>"
      ]
    },
    {
      "cell_type": "markdown",
      "metadata": {
        "id": "qTh9DiKVslsJ"
      },
      "source": [
        "## Dogs vs. Cats \n",
        "\n",
        "In this competition, you'll write an algorithm to classify whether images contain either a dog or a cat.  This is easy for humans, dogs, and cats. Your computer will find it a bit more difficult.\n",
        "\n",
        "![alt text](https://miro.medium.com/max/3000/1*bhFifratH9DjKqMBTeQG5A.gif)\n",
        "\n",
        "Ref: https://medium.com/@thegrigorian/rolling-in-the-deep-cnn-c8d3f7108c8c"
      ]
    },
    {
      "cell_type": "markdown",
      "metadata": {
        "id": "RSBI-_mSSY1g"
      },
      "source": [
        "Get your API Key from Kaggle using following steps:\n",
        "1. Login to [Kaggle](https://www.kaggle.com/) or Register if you don't have account\n",
        "2. Open Dataset (https://www.kaggle.com/c/dogs-vs-cats/rules) and accept terms and condition. \n",
        "3. On the top right corner click on your Icon and go to accounts and press a button \"Create New API Token\". It will download a JSON file containing your username and key. \n",
        "4. Now, paste both below. \n"
      ]
    },
    {
      "cell_type": "code",
      "metadata": {
        "id": "YmXSOc0tZIGA",
        "colab": {
          "base_uri": "https://localhost:8080/"
        },
        "outputId": "8b55e307-bb7a-43de-f72a-a4d9a51cb813"
      },
      "source": [
        "import os\n",
        "os.environ['KAGGLE_USERNAME'] = \"poojadhameliya\" # username from the json file\n",
        "os.environ['KAGGLE_KEY'] = \"02de2f1cff941ff380c8c36990165c4a\" # key from the json file\n",
        "!kaggle competitions download -c dogs-vs-cats # api copied from kaggle (https://www.kaggle.com/c/dogs-vs-cats/data)"
      ],
      "execution_count": null,
      "outputs": [
        {
          "output_type": "stream",
          "text": [
            "Warning: Looks like you're using an outdated API Version, please consider updating (server 1.5.12 / client 1.5.4)\n",
            "Downloading test1.zip to /content\n",
            "100% 271M/271M [00:01<00:00, 198MB/s]\n",
            "100% 271M/271M [00:01<00:00, 168MB/s]\n",
            "Downloading train.zip to /content\n",
            " 98% 533M/543M [00:02<00:00, 246MB/s]\n",
            "100% 543M/543M [00:02<00:00, 198MB/s]\n",
            "Downloading sampleSubmission.csv to /content\n",
            "  0% 0.00/86.8k [00:00<?, ?B/s]\n",
            "100% 86.8k/86.8k [00:00<00:00, 75.2MB/s]\n"
          ],
          "name": "stdout"
        }
      ]
    },
    {
      "cell_type": "code",
      "metadata": {
        "id": "PiwIL8d1n7eS",
        "colab": {
          "base_uri": "https://localhost:8080/"
        },
        "outputId": "f4c52280-0525-4180-b418-021de87ddaf9"
      },
      "source": [
        "# Unzip training data\n",
        "from zipfile import ZipFile\n",
        "file_name = \"/content/train.zip\"\n",
        "with ZipFile(file_name, 'r') as zip:\n",
        "  zip.extractall()\n",
        "  print('done')"
      ],
      "execution_count": null,
      "outputs": [
        {
          "output_type": "stream",
          "text": [
            "done\n"
          ],
          "name": "stdout"
        }
      ]
    },
    {
      "cell_type": "code",
      "metadata": {
        "id": "sa2Bj5i7pPKV",
        "colab": {
          "base_uri": "https://localhost:8080/"
        },
        "outputId": "0f6a1463-61ed-4f52-95e3-462c7ff833a0"
      },
      "source": [
        "# Get all the paths\n",
        "data_dir_list = os.listdir('/content/train')\n",
        "#print(data_dir_list)\n",
        "path, dirs, files = next(os.walk(\"/content/train\"))\n",
        "file_count = len(files)\n",
        "print(file_count)"
      ],
      "execution_count": null,
      "outputs": [
        {
          "output_type": "stream",
          "text": [
            "25000\n"
          ],
          "name": "stdout"
        }
      ]
    },
    {
      "cell_type": "code",
      "metadata": {
        "id": "0ERlHkfHqpK8"
      },
      "source": [
        "# Make new base directory\n",
        "original_dataset_dir = '/content/train'\n",
        "base_dir = '/content/cats_and_dogs_small'\n",
        "os.mkdir(base_dir)"
      ],
      "execution_count": null,
      "outputs": []
    },
    {
      "cell_type": "code",
      "metadata": {
        "id": "AANB1UJ6rQhM"
      },
      "source": [
        "train_dir = os.path.join(base_dir, 'train')\n",
        "os.mkdir(train_dir)\n",
        "\n",
        "validation_dir = os.path.join(base_dir, 'validation')\n",
        "os.mkdir(validation_dir)\n",
        "\n",
        "test_dir = os.path.join(base_dir, 'test')\n",
        "os.mkdir(test_dir)\n",
        "\n",
        "train_cats_dir = os.path.join(train_dir, 'cats')\n",
        "os.mkdir(train_cats_dir)\n",
        "\n",
        "train_dogs_dir = os.path.join(train_dir, 'dogs')\n",
        "os.mkdir(train_dogs_dir)\n",
        "\n",
        "validation_cats_dir = os.path.join(validation_dir, 'cats')\n",
        "os.mkdir(validation_cats_dir)\n",
        "\n",
        "validation_dogs_dir = os.path.join(validation_dir, 'dogs')\n",
        "os.mkdir(validation_dogs_dir)\n",
        "\n",
        "test_cats_dir = os.path.join(test_dir, 'cats')\n",
        "os.mkdir(test_cats_dir)\n",
        "\n",
        "test_dogs_dir = os.path.join(test_dir, 'dogs')\n",
        "os.mkdir(test_dogs_dir)"
      ],
      "execution_count": null,
      "outputs": []
    },
    {
      "cell_type": "code",
      "metadata": {
        "id": "ULRgL9s9rV8T"
      },
      "source": [
        "import shutil\n",
        "fnames = ['cat.{}.jpg'.format(i) for i in range(1000)]\n",
        "for fname in fnames:\n",
        "    src = os.path.join(original_dataset_dir, fname)\n",
        "    dst = os.path.join(train_cats_dir, fname)\n",
        "    #print(src,dst)\n",
        "    shutil.copyfile(src, dst)\n",
        "    \n",
        "fnames = ['cat.{}.jpg'.format(i) for i in range(1000, 1500)]\n",
        "for fname in fnames:\n",
        "    src = os.path.join(original_dataset_dir, fname)\n",
        "    dst = os.path.join(validation_cats_dir, fname)\n",
        "    shutil.copyfile(src, dst)\n",
        "\n",
        "fnames = ['cat.{}.jpg'.format(i) for i in range(1500, 2000)]\n",
        "for fname in fnames:\n",
        "    src = os.path.join(original_dataset_dir, fname)\n",
        "    dst = os.path.join(test_cats_dir, fname)\n",
        "    shutil.copyfile(src, dst)\n",
        "    \n",
        "fnames = ['dog.{}.jpg'.format(i) for i in range(1000)]\n",
        "for fname in fnames:\n",
        "    src = os.path.join(original_dataset_dir, fname)\n",
        "    dst = os.path.join(train_dogs_dir, fname)\n",
        "    shutil.copyfile(src, dst)\n",
        "\n",
        "fnames = ['dog.{}.jpg'.format(i) for i in range(1000, 1500)]\n",
        "for fname in fnames:\n",
        "    src = os.path.join(original_dataset_dir, fname)\n",
        "    dst = os.path.join(validation_dogs_dir, fname)\n",
        "    shutil.copyfile(src, dst)\n",
        "\n",
        "fnames = ['dog.{}.jpg'.format(i) for i in range(1500, 2000)]\n",
        "for fname in fnames:\n",
        "    src = os.path.join(original_dataset_dir, fname)\n",
        "    dst = os.path.join(test_dogs_dir, fname)\n",
        "    shutil.copyfile(src, dst)"
      ],
      "execution_count": null,
      "outputs": []
    },
    {
      "cell_type": "code",
      "metadata": {
        "id": "ul3XAbIyr7vC",
        "colab": {
          "base_uri": "https://localhost:8080/"
        },
        "outputId": "e528a2f2-c734-4fd3-80ea-e0599cf0decc"
      },
      "source": [
        "print('total training cat images:', len(os.listdir(train_cats_dir)))\n",
        "print('total training dog images:', len(os.listdir(train_dogs_dir)))\n",
        "print('total validation cat images:', len(os.listdir(validation_cats_dir)))\n",
        "\n",
        "print('total validation dog images:', len(os.listdir(validation_dogs_dir)))\n",
        "print('total test cat images:', len(os.listdir(test_cats_dir)))\n",
        "print('total test dog images:', len(os.listdir(test_dogs_dir)))"
      ],
      "execution_count": null,
      "outputs": [
        {
          "output_type": "stream",
          "text": [
            "total training cat images: 1000\n",
            "total training dog images: 1000\n",
            "total validation cat images: 500\n",
            "total validation dog images: 500\n",
            "total test cat images: 500\n",
            "total test dog images: 500\n"
          ],
          "name": "stdout"
        }
      ]
    },
    {
      "cell_type": "code",
      "metadata": {
        "id": "o9yTA21_r-ma",
        "colab": {
          "base_uri": "https://localhost:8080/"
        },
        "outputId": "825af38f-531f-408b-e634-f010638b5f04"
      },
      "source": [
        "from keras import layers\n",
        "from keras import models\n",
        "\n",
        "model = models.Sequential()\n",
        "model.add(layers.Conv2D(32, (3, 3), activation='relu', input_shape=(150, 150, 3)))\n",
        "model.add(layers.MaxPooling2D((2, 2)))\n",
        "model.add(layers.Conv2D(64, (3, 3), activation='relu'))\n",
        "model.add(layers.MaxPooling2D((2, 2)))\n",
        "model.add(layers.Conv2D(128, (3, 3), activation='relu'))\n",
        "model.add(layers.MaxPooling2D((2, 2)))\n",
        "model.add(layers.Conv2D(128, (3, 3), activation='relu'))\n",
        "model.add(layers.MaxPooling2D((2, 2)))\n",
        "model.add(layers.Flatten())\n",
        "model.add(layers.Dense(512, activation='relu'))\n",
        "model.add(layers.Dense(1, activation='sigmoid'))\n",
        "model.summary()"
      ],
      "execution_count": null,
      "outputs": [
        {
          "output_type": "stream",
          "text": [
            "Model: \"sequential\"\n",
            "_________________________________________________________________\n",
            "Layer (type)                 Output Shape              Param #   \n",
            "=================================================================\n",
            "conv2d (Conv2D)              (None, 148, 148, 32)      896       \n",
            "_________________________________________________________________\n",
            "max_pooling2d (MaxPooling2D) (None, 74, 74, 32)        0         \n",
            "_________________________________________________________________\n",
            "conv2d_1 (Conv2D)            (None, 72, 72, 64)        18496     \n",
            "_________________________________________________________________\n",
            "max_pooling2d_1 (MaxPooling2 (None, 36, 36, 64)        0         \n",
            "_________________________________________________________________\n",
            "conv2d_2 (Conv2D)            (None, 34, 34, 128)       73856     \n",
            "_________________________________________________________________\n",
            "max_pooling2d_2 (MaxPooling2 (None, 17, 17, 128)       0         \n",
            "_________________________________________________________________\n",
            "conv2d_3 (Conv2D)            (None, 15, 15, 128)       147584    \n",
            "_________________________________________________________________\n",
            "max_pooling2d_3 (MaxPooling2 (None, 7, 7, 128)         0         \n",
            "_________________________________________________________________\n",
            "flatten (Flatten)            (None, 6272)              0         \n",
            "_________________________________________________________________\n",
            "dense (Dense)                (None, 512)               3211776   \n",
            "_________________________________________________________________\n",
            "dense_1 (Dense)              (None, 1)                 513       \n",
            "=================================================================\n",
            "Total params: 3,453,121\n",
            "Trainable params: 3,453,121\n",
            "Non-trainable params: 0\n",
            "_________________________________________________________________\n"
          ],
          "name": "stdout"
        }
      ]
    },
    {
      "cell_type": "code",
      "metadata": {
        "id": "2mG8wekxsBVS"
      },
      "source": [
        "from keras import optimizers\n",
        "model.compile(loss='binary_crossentropy', \n",
        "              optimizer=optimizers.RMSprop(lr=1e-4),\n",
        "              metrics=['acc'])"
      ],
      "execution_count": null,
      "outputs": []
    },
    {
      "cell_type": "markdown",
      "metadata": {
        "id": "7zS4Klm8qWp6"
      },
      "source": [
        "## Using ImageDataGenerator to read images from directories\n",
        "As you know by now, data should be formatted into appropriately preprocessed floatingpoint tensors before being fed into the network. Currently, the data sits on a drive as JPEG files, so the steps for getting it into the network are roughly as follows:\n",
        "\n",
        "* Read the picture files.\n",
        "* Decode the JPEG content to RGB grids of pixels.\n",
        "* Convert these into floating-point tensors.\n",
        "* Rescale the pixel values (between 0 and 255) to the [0, 1] interval (as you know, neural networks prefer to deal with small input values).\n",
        "\n",
        "It may seem a bit daunting, but fortunately Keras has utilities to take care of these steps automatically. Keras has a module with image-processing helper tools, located at keras.preprocessing.image. In particular, it contains the class ImageDataGenerator,which lets you quickly set up Python generators that can automatically turn image files on disk into batches of preprocessed tensors."
      ]
    },
    {
      "cell_type": "code",
      "metadata": {
        "id": "XJ7XU7t9sEh6",
        "colab": {
          "base_uri": "https://localhost:8080/"
        },
        "outputId": "2ad2e6d4-e8c5-4f49-ae77-2efefb6349e2"
      },
      "source": [
        "from keras.preprocessing.image import ImageDataGenerator\n",
        "\n",
        "train_datagen = ImageDataGenerator(rescale=1./255)\n",
        "test_datagen = ImageDataGenerator(rescale=1./255)\n",
        "\n",
        "train_generator = train_datagen.flow_from_directory(train_dir,\n",
        "                                                    target_size=(150, 150), \n",
        "                                                    batch_size=20,\n",
        "                                                    class_mode='binary')\n",
        "\n",
        "validation_generator = test_datagen.flow_from_directory(validation_dir,\n",
        "                                                        target_size=(150, 150),\n",
        "                                                        batch_size=20,\n",
        "                                                        class_mode='binary')"
      ],
      "execution_count": null,
      "outputs": [
        {
          "output_type": "stream",
          "text": [
            "Found 2000 images belonging to 2 classes.\n",
            "Found 1000 images belonging to 2 classes.\n"
          ],
          "name": "stdout"
        }
      ]
    },
    {
      "cell_type": "markdown",
      "metadata": {
        "id": "SEgLywySqm4u"
      },
      "source": [
        "Let’s fit the model to the data using the generator. You do so using the fit_generator method, the equivalent of fit for data generators like this one. It expects as its first argument a Python generator that will yield batches of inputs and targets indefinitely,like this one does. Because the data is being generated endlessly, the Keras model needs to know how many samples to draw from the generator before declaring anepoch over. This is the role of the `steps_per_epoch` argument: after having drawn `steps_per_epoch` batches from the generator—that is, after having run for `steps_per_epoch` gradient descent steps—the fitting process will go to the next epoch. In this case, batches are 20 samples, so it will take 100 batches until you see your target of 2,000 samples.\n",
        "\n",
        "When using fit_generator, you can pass a validation_data argument, much as with the fit method. It’s important to note that this argument is allowed to be a data generator, but it could also be a tuple of Numpy arrays. If you pass a generator as validation_data, then this generator is expected to yield batches of validation data endlessly; thus you should also specify the validation_steps argument, which tells the process how many batches to draw from the validation generator for evaluation."
      ]
    },
    {
      "cell_type": "code",
      "metadata": {
        "id": "yMyfPphJsJG6",
        "colab": {
          "base_uri": "https://localhost:8080/"
        },
        "outputId": "2cfeedf4-732d-40c8-84f8-de29e4970eb2"
      },
      "source": [
        "history = model.fit(x=train_generator,\n",
        "                              steps_per_epoch=100,\n",
        "                              epochs=30,\n",
        "                              validation_data=validation_generator,\n",
        "                              validation_steps=10)"
      ],
      "execution_count": null,
      "outputs": [
        {
          "output_type": "stream",
          "text": [
            "Epoch 1/30\n",
            "100/100 [==============================] - 40s 68ms/step - loss: 0.7046 - acc: 0.5019 - val_loss: 0.6949 - val_acc: 0.4750\n",
            "Epoch 2/30\n",
            "100/100 [==============================] - 6s 65ms/step - loss: 0.6676 - acc: 0.5907 - val_loss: 0.6660 - val_acc: 0.5850\n",
            "Epoch 3/30\n",
            "100/100 [==============================] - 6s 65ms/step - loss: 0.6205 - acc: 0.6517 - val_loss: 0.6355 - val_acc: 0.6250\n",
            "Epoch 4/30\n",
            "100/100 [==============================] - 6s 64ms/step - loss: 0.5746 - acc: 0.7000 - val_loss: 0.5961 - val_acc: 0.6700\n",
            "Epoch 5/30\n",
            "100/100 [==============================] - 7s 65ms/step - loss: 0.5359 - acc: 0.7486 - val_loss: 0.6178 - val_acc: 0.6600\n",
            "Epoch 6/30\n",
            "100/100 [==============================] - 6s 65ms/step - loss: 0.5298 - acc: 0.7420 - val_loss: 0.5468 - val_acc: 0.7250\n",
            "Epoch 7/30\n",
            "100/100 [==============================] - 6s 65ms/step - loss: 0.4914 - acc: 0.7469 - val_loss: 0.5933 - val_acc: 0.6900\n",
            "Epoch 8/30\n",
            "100/100 [==============================] - 7s 66ms/step - loss: 0.4724 - acc: 0.7744 - val_loss: 0.5841 - val_acc: 0.7200\n",
            "Epoch 9/30\n",
            "100/100 [==============================] - 7s 66ms/step - loss: 0.4468 - acc: 0.7943 - val_loss: 0.5104 - val_acc: 0.7550\n",
            "Epoch 10/30\n",
            "100/100 [==============================] - 7s 65ms/step - loss: 0.4012 - acc: 0.8156 - val_loss: 0.6844 - val_acc: 0.6850\n",
            "Epoch 11/30\n",
            "100/100 [==============================] - 6s 64ms/step - loss: 0.3825 - acc: 0.8277 - val_loss: 0.5733 - val_acc: 0.7350\n",
            "Epoch 12/30\n",
            "100/100 [==============================] - 7s 65ms/step - loss: 0.3739 - acc: 0.8460 - val_loss: 0.6134 - val_acc: 0.7350\n",
            "Epoch 13/30\n",
            "100/100 [==============================] - 7s 65ms/step - loss: 0.3446 - acc: 0.8496 - val_loss: 0.6000 - val_acc: 0.7100\n",
            "Epoch 14/30\n",
            "100/100 [==============================] - 7s 66ms/step - loss: 0.3153 - acc: 0.8647 - val_loss: 0.6100 - val_acc: 0.7050\n",
            "Epoch 15/30\n",
            "100/100 [==============================] - 7s 65ms/step - loss: 0.2863 - acc: 0.8929 - val_loss: 0.5407 - val_acc: 0.7350\n",
            "Epoch 16/30\n",
            "100/100 [==============================] - 6s 65ms/step - loss: 0.2452 - acc: 0.8984 - val_loss: 0.5748 - val_acc: 0.7350\n",
            "Epoch 17/30\n",
            "100/100 [==============================] - 7s 65ms/step - loss: 0.2441 - acc: 0.9075 - val_loss: 0.6007 - val_acc: 0.7300\n",
            "Epoch 18/30\n",
            "100/100 [==============================] - 7s 66ms/step - loss: 0.2274 - acc: 0.9173 - val_loss: 0.6510 - val_acc: 0.7350\n",
            "Epoch 19/30\n",
            "100/100 [==============================] - 6s 64ms/step - loss: 0.2073 - acc: 0.9213 - val_loss: 0.6700 - val_acc: 0.7100\n",
            "Epoch 20/30\n",
            "100/100 [==============================] - 7s 65ms/step - loss: 0.1842 - acc: 0.9254 - val_loss: 0.6520 - val_acc: 0.7300\n",
            "Epoch 21/30\n",
            "100/100 [==============================] - 7s 65ms/step - loss: 0.1633 - acc: 0.9428 - val_loss: 0.8736 - val_acc: 0.6750\n",
            "Epoch 22/30\n",
            "100/100 [==============================] - 7s 65ms/step - loss: 0.1466 - acc: 0.9448 - val_loss: 0.8011 - val_acc: 0.7350\n",
            "Epoch 23/30\n",
            "100/100 [==============================] - 7s 67ms/step - loss: 0.1250 - acc: 0.9628 - val_loss: 0.8036 - val_acc: 0.7250\n",
            "Epoch 24/30\n",
            "100/100 [==============================] - 7s 65ms/step - loss: 0.1157 - acc: 0.9540 - val_loss: 0.6400 - val_acc: 0.7800\n",
            "Epoch 25/30\n",
            "100/100 [==============================] - 7s 66ms/step - loss: 0.1005 - acc: 0.9686 - val_loss: 0.7414 - val_acc: 0.7750\n",
            "Epoch 26/30\n",
            "100/100 [==============================] - 7s 66ms/step - loss: 0.0848 - acc: 0.9747 - val_loss: 0.8319 - val_acc: 0.7600\n",
            "Epoch 27/30\n",
            "100/100 [==============================] - 7s 65ms/step - loss: 0.0708 - acc: 0.9837 - val_loss: 0.9455 - val_acc: 0.7100\n",
            "Epoch 28/30\n",
            "100/100 [==============================] - 7s 66ms/step - loss: 0.0660 - acc: 0.9836 - val_loss: 1.0446 - val_acc: 0.7250\n",
            "Epoch 29/30\n",
            "100/100 [==============================] - 7s 65ms/step - loss: 0.0560 - acc: 0.9888 - val_loss: 0.9247 - val_acc: 0.7200\n",
            "Epoch 30/30\n",
            "100/100 [==============================] - 6s 65ms/step - loss: 0.0494 - acc: 0.9868 - val_loss: 1.2259 - val_acc: 0.6950\n"
          ],
          "name": "stdout"
        }
      ]
    },
    {
      "cell_type": "code",
      "metadata": {
        "id": "MZaZ2HWZsNUi",
        "colab": {
          "base_uri": "https://localhost:8080/",
          "height": 545
        },
        "outputId": "4eec2a3a-0fae-4136-f0b7-3585a29f9557"
      },
      "source": [
        "model.save('cats_and_dogs_small_1.h5')\n",
        "\n",
        "import matplotlib.pyplot as plt\n",
        "\n",
        "acc = history.history['acc']\n",
        "val_acc = history.history['val_acc']\n",
        "loss = history.history['loss']\n",
        "val_loss = history.history['val_loss']\n",
        "\n",
        "epochs = range(1, len(acc) + 1)\n",
        "\n",
        "plt.plot(epochs, acc, 'bo', label='Training acc')\n",
        "plt.plot(epochs, val_acc, 'b', label='Validation acc')\n",
        "plt.title('Training and validation accuracy')\n",
        "plt.legend()\n",
        "\n",
        "plt.figure()\n",
        "\n",
        "plt.plot(epochs, loss, 'bo', label='Training loss')\n",
        "plt.plot(epochs, val_loss, 'b', label='Validation loss')\n",
        "plt.title('Training and validation loss')\n",
        "plt.legend()\n",
        "\n",
        "plt.show()"
      ],
      "execution_count": null,
      "outputs": [
        {
          "output_type": "display_data",
          "data": {
            "image/png": "[encoded data removed]",
            "text/plain": [
              "<Figure size 432x288 with 1 Axes>"
            ]
          },
          "metadata": {
            "tags": [],
            "needs_background": "light"
          }
        },
        {
          "output_type": "display_data",
          "data": {
            "image/png": "[encoded data removed]",
            "text/plain": [
              "<Figure size 432x288 with 1 Axes>"
            ]
          },
          "metadata": {
            "tags": [],
            "needs_background": "light"
          }
        }
      ]
    },
    {
      "cell_type": "markdown",
      "metadata": {
        "id": "XKZmXmBcq_8-"
      },
      "source": [
        "## Convolutional Networks with Dropout\n",
        "\n",
        "![alt text](https://camo.githubusercontent.com/ee6fa1073247cd2c3d241300caf110d7a7541bc5/68747470733a2f2f63646e2d696d616765732d312e6d656469756d2e636f6d2f6d61782f3830302f312a4972644a355067684439596f4f7956415137334d4a772e676966)\n",
        "\n",
        "Ref: https://github.com/mneha4/Training-Neural-Nets---Guidelines"
      ]
    },
    {
      "cell_type": "code",
      "metadata": {
        "id": "wu3cqeYQrDeN"
      },
      "source": [
        "model = models.Sequential()\n",
        "model.add(layers.Conv2D(32, (3, 3), activation='relu',\n",
        "input_shape=(150, 150, 3)))\n",
        "model.add(layers.MaxPooling2D((2, 2)))\n",
        "model.add(layers.Conv2D(64, (3, 3), activation='relu'))\n",
        "model.add(layers.MaxPooling2D((2, 2)))\n",
        "model.add(layers.Conv2D(128, (3, 3), activation='relu'))\n",
        "model.add(layers.MaxPooling2D((2, 2)))\n",
        "model.add(layers.Conv2D(128, (3, 3), activation='relu'))\n",
        "model.add(layers.MaxPooling2D((2, 2)))\n",
        "model.add(layers.Flatten())\n",
        "model.add(layers.Dropout(0.5))\n",
        "model.add(layers.Dense(512, activation='relu'))\n",
        "model.add(layers.Dense(1, activation='sigmoid'))\n",
        "\n",
        "model.compile(loss='binary_crossentropy',\n",
        "              optimizer=optimizers.RMSprop(lr=1e-4),\n",
        "              metrics=['acc'])"
      ],
      "execution_count": null,
      "outputs": []
    },
    {
      "cell_type": "code",
      "metadata": {
        "id": "QSeLpvY0rH7F",
        "colab": {
          "base_uri": "https://localhost:8080/"
        },
        "outputId": "2aaedcfa-45c5-4bb6-ee3a-3a0a2f34887d"
      },
      "source": [
        "train_datagen = ImageDataGenerator(rescale=1./255,\n",
        "                                   rotation_range=40,\n",
        "                                   width_shift_range=0.2,\n",
        "                                   height_shift_range=0.2,\n",
        "                                   shear_range=0.2,\n",
        "                                   zoom_range=0.2,\n",
        "                                   horizontal_flip=True)\n",
        "\n",
        "test_datagen = ImageDataGenerator(rescale=1./255)\n",
        "#  batch_size 32 gives input ran out of data error\n",
        "train_generator = train_datagen.flow_from_directory(train_dir,\n",
        "                                                    target_size=(150, 150),\n",
        "                                                    batch_size=20,\n",
        "                                                    class_mode='binary',\n",
        "                                                    seed=42)\n",
        "\n",
        "validation_generator = test_datagen.flow_from_directory(validation_dir,\n",
        "                                                        target_size=(150, 150),\n",
        "                                                        batch_size=20,\n",
        "                                                        class_mode='binary',\n",
        "                                                        seed=42)\n",
        "\n",
        "history = model.fit(x=train_generator,\n",
        "                              steps_per_epoch=100,\n",
        "                              epochs=20,\n",
        "                              validation_data=validation_generator,\n",
        "                              validation_steps=50)"
      ],
      "execution_count": null,
      "outputs": [
        {
          "output_type": "stream",
          "text": [
            "Found 2000 images belonging to 2 classes.\n",
            "Found 1000 images belonging to 2 classes.\n",
            "Epoch 1/20\n",
            "100/100 [==============================] - 18s 172ms/step - loss: 0.6944 - acc: 0.5001 - val_loss: 0.6843 - val_acc: 0.5000\n",
            "Epoch 2/20\n",
            "100/100 [==============================] - 17s 167ms/step - loss: 0.6875 - acc: 0.5401 - val_loss: 0.6601 - val_acc: 0.6150\n",
            "Epoch 3/20\n",
            "100/100 [==============================] - 17s 169ms/step - loss: 0.6761 - acc: 0.5950 - val_loss: 0.6666 - val_acc: 0.5660\n",
            "Epoch 4/20\n",
            "100/100 [==============================] - 17s 168ms/step - loss: 0.6618 - acc: 0.5977 - val_loss: 0.6429 - val_acc: 0.6070\n",
            "Epoch 5/20\n",
            "100/100 [==============================] - 17s 169ms/step - loss: 0.6508 - acc: 0.6141 - val_loss: 0.6516 - val_acc: 0.6220\n",
            "Epoch 6/20\n",
            "100/100 [==============================] - 17s 168ms/step - loss: 0.6353 - acc: 0.6473 - val_loss: 0.6028 - val_acc: 0.6730\n",
            "Epoch 7/20\n",
            "100/100 [==============================] - 17s 169ms/step - loss: 0.6204 - acc: 0.6498 - val_loss: 0.6845 - val_acc: 0.5930\n",
            "Epoch 8/20\n",
            "100/100 [==============================] - 17s 169ms/step - loss: 0.6112 - acc: 0.6628 - val_loss: 0.6216 - val_acc: 0.6380\n",
            "Epoch 9/20\n",
            "100/100 [==============================] - 17s 168ms/step - loss: 0.6104 - acc: 0.6504 - val_loss: 0.6165 - val_acc: 0.6280\n",
            "Epoch 10/20\n",
            "100/100 [==============================] - 17s 169ms/step - loss: 0.5809 - acc: 0.6975 - val_loss: 0.5556 - val_acc: 0.7020\n",
            "Epoch 11/20\n",
            "100/100 [==============================] - 17s 170ms/step - loss: 0.6006 - acc: 0.6725 - val_loss: 0.6345 - val_acc: 0.6230\n",
            "Epoch 12/20\n",
            "100/100 [==============================] - 17s 169ms/step - loss: 0.5792 - acc: 0.6892 - val_loss: 0.5591 - val_acc: 0.7000\n",
            "Epoch 13/20\n",
            "100/100 [==============================] - 17s 171ms/step - loss: 0.5816 - acc: 0.6844 - val_loss: 0.5433 - val_acc: 0.7310\n",
            "Epoch 14/20\n",
            "100/100 [==============================] - 17s 168ms/step - loss: 0.5667 - acc: 0.6954 - val_loss: 0.5846 - val_acc: 0.6730\n",
            "Epoch 15/20\n",
            "100/100 [==============================] - 17s 170ms/step - loss: 0.5801 - acc: 0.6923 - val_loss: 0.5655 - val_acc: 0.7080\n",
            "Epoch 16/20\n",
            "100/100 [==============================] - 17s 168ms/step - loss: 0.5764 - acc: 0.7025 - val_loss: 0.5354 - val_acc: 0.7310\n",
            "Epoch 17/20\n",
            "100/100 [==============================] - 17s 169ms/step - loss: 0.5523 - acc: 0.7131 - val_loss: 0.5295 - val_acc: 0.7390\n",
            "Epoch 18/20\n",
            "100/100 [==============================] - 17s 169ms/step - loss: 0.5543 - acc: 0.7005 - val_loss: 0.5385 - val_acc: 0.7330\n",
            "Epoch 19/20\n",
            "100/100 [==============================] - 17s 173ms/step - loss: 0.5554 - acc: 0.7092 - val_loss: 0.5176 - val_acc: 0.7430\n",
            "Epoch 20/20\n",
            "100/100 [==============================] - 17s 169ms/step - loss: 0.5694 - acc: 0.7056 - val_loss: 0.5171 - val_acc: 0.7320\n"
          ],
          "name": "stdout"
        }
      ]
    },
    {
      "cell_type": "markdown",
      "metadata": {
        "id": "BRdU5yrkUF_b"
      },
      "source": [
        "# Task 2:\n",
        "\n",
        "We have used Dropout to enhance the performance of the CNN model. Can you please use whatever you like to further enhance the performance from `val_acc: 0.7506`? "
      ]
    },
    {
      "cell_type": "code",
      "metadata": {
        "id": "OTB95tseFr4Q",
        "colab": {
          "base_uri": "https://localhost:8080/"
        },
        "outputId": "c857fcb1-e5ff-44b3-da40-a3711b5c7a43"
      },
      "source": [
        "# changed learning rate\n",
        "from keras.callbacks import ReduceLROnPlateau\n",
        "def task():\n",
        "    model = models.Sequential()\n",
        "    model.add(layers.Conv2D(32, (3, 3), activation='relu',\n",
        "    input_shape=(150, 150, 3)))\n",
        "    model.add(layers.MaxPooling2D((2, 2)))\n",
        "    model.add(layers.Conv2D(64, (3, 3), activation='relu'))\n",
        "    model.add(layers.MaxPooling2D((2, 2)))\n",
        "    model.add(layers.Conv2D(128, (3, 3), activation='relu'))\n",
        "    model.add(layers.MaxPooling2D((2, 2)))\n",
        "    model.add(layers.Conv2D(128, (3, 3), activation='relu'))\n",
        "    model.add(layers.MaxPooling2D((2, 2)))\n",
        "    model.add(layers.Flatten())\n",
        "    model.add(layers.Dropout(0.5))\n",
        "    model.add(layers.Dense(512, activation='relu'))\n",
        "    model.add(layers.Dense(1, activation='sigmoid'))\n",
        "\n",
        "    model.compile(loss='binary_crossentropy',\n",
        "                  optimizer=optimizers.RMSprop(),\n",
        "                  metrics=['acc'])\n",
        "    return model\n",
        "\n",
        "\n",
        "task_train_datagen = ImageDataGenerator(rescale=1./255,\n",
        "                                   width_shift_range=0.1,\n",
        "                                   height_shift_range=0.1,\n",
        "                                   shear_range=0.1,\n",
        "                                   zoom_range=0.2,\n",
        "                                   horizontal_flip=True)\n",
        "\n",
        "validation_datagen = ImageDataGenerator(rescale=1./255)\n",
        "task_train_generator = task_train_datagen.flow_from_directory(train_dir,\n",
        "                                                    target_size=(150, 150),\n",
        "                                                    batch_size=20,\n",
        "                                                    class_mode='binary',\n",
        "                                                    seed=42)\n",
        "\n",
        "task_validation_generator = validation_datagen.flow_from_directory(validation_dir,\n",
        "                                                        target_size=(150, 150),\n",
        "                                                        batch_size=20,\n",
        "                                                        class_mode='binary',\n",
        "                                                        seed=42)\n",
        "\n",
        "learning_rate_reduction = ReduceLROnPlateau(monitor='val_acc', \n",
        "                                            patience=2, \n",
        "                                            verbose=1, \n",
        "                                            factor=0.5, \n",
        "                                            min_lr=0.00001)\n",
        "callbacks = [learning_rate_reduction]\n",
        "\n",
        "history = task().fit(x=task_train_generator,\n",
        "                              steps_per_epoch=100,\n",
        "                              epochs=20,\n",
        "                              validation_data=task_validation_generator,\n",
        "                              validation_steps=50,\n",
        "                     callbacks=callbacks)"
      ],
      "execution_count": null,
      "outputs": [
        {
          "output_type": "stream",
          "text": [
            "Found 2000 images belonging to 2 classes.\n",
            "Found 1000 images belonging to 2 classes.\n",
            "Epoch 1/20\n",
            "100/100 [==============================] - 18s 168ms/step - loss: 0.8416 - acc: 0.4889 - val_loss: 0.6940 - val_acc: 0.5050\n",
            "Epoch 2/20\n",
            "100/100 [==============================] - 17s 167ms/step - loss: 0.6955 - acc: 0.5389 - val_loss: 0.6662 - val_acc: 0.6280\n",
            "Epoch 3/20\n",
            "100/100 [==============================] - 17s 166ms/step - loss: 0.6751 - acc: 0.6062 - val_loss: 0.6224 - val_acc: 0.6470\n",
            "Epoch 4/20\n",
            "100/100 [==============================] - 17s 167ms/step - loss: 0.6395 - acc: 0.6468 - val_loss: 0.6324 - val_acc: 0.6220\n",
            "Epoch 5/20\n",
            "100/100 [==============================] - 17s 167ms/step - loss: 0.6233 - acc: 0.6868 - val_loss: 0.5804 - val_acc: 0.7100\n",
            "Epoch 6/20\n",
            "100/100 [==============================] - 17s 166ms/step - loss: 0.6048 - acc: 0.6739 - val_loss: 0.5748 - val_acc: 0.7090\n",
            "Epoch 7/20\n",
            "100/100 [==============================] - 17s 168ms/step - loss: 0.5963 - acc: 0.6925 - val_loss: 0.5495 - val_acc: 0.7300\n",
            "Epoch 8/20\n",
            "100/100 [==============================] - 17s 167ms/step - loss: 0.5945 - acc: 0.7098 - val_loss: 0.5711 - val_acc: 0.7070\n",
            "Epoch 9/20\n",
            "100/100 [==============================] - 17s 167ms/step - loss: 0.5610 - acc: 0.7109 - val_loss: 0.5208 - val_acc: 0.7460\n",
            "Epoch 10/20\n",
            "100/100 [==============================] - 16s 165ms/step - loss: 0.5547 - acc: 0.7138 - val_loss: 0.5530 - val_acc: 0.7140\n",
            "Epoch 11/20\n",
            "100/100 [==============================] - 17s 168ms/step - loss: 0.5394 - acc: 0.7202 - val_loss: 0.5171 - val_acc: 0.7380\n",
            "\n",
            "Epoch 00011: ReduceLROnPlateau reducing learning rate to 0.0005000000237487257.\n",
            "Epoch 12/20\n",
            "100/100 [==============================] - 17s 166ms/step - loss: 0.4911 - acc: 0.7695 - val_loss: 0.5087 - val_acc: 0.7560\n",
            "Epoch 13/20\n",
            "100/100 [==============================] - 17s 169ms/step - loss: 0.4742 - acc: 0.7823 - val_loss: 0.5067 - val_acc: 0.7650\n",
            "Epoch 14/20\n",
            "100/100 [==============================] - 16s 165ms/step - loss: 0.4734 - acc: 0.7843 - val_loss: 0.4623 - val_acc: 0.7830\n",
            "Epoch 15/20\n",
            "100/100 [==============================] - 17s 167ms/step - loss: 0.4497 - acc: 0.7880 - val_loss: 0.4567 - val_acc: 0.7920\n",
            "Epoch 16/20\n",
            "100/100 [==============================] - 17s 166ms/step - loss: 0.4443 - acc: 0.7934 - val_loss: 0.4921 - val_acc: 0.7830\n",
            "Epoch 17/20\n",
            "100/100 [==============================] - 17s 167ms/step - loss: 0.4631 - acc: 0.7934 - val_loss: 0.4489 - val_acc: 0.7870\n",
            "\n",
            "Epoch 00017: ReduceLROnPlateau reducing learning rate to 0.0002500000118743628.\n",
            "Epoch 18/20\n",
            "100/100 [==============================] - 17s 165ms/step - loss: 0.4045 - acc: 0.8088 - val_loss: 0.4310 - val_acc: 0.7960\n",
            "Epoch 19/20\n",
            "100/100 [==============================] - 17s 167ms/step - loss: 0.3959 - acc: 0.8210 - val_loss: 0.4111 - val_acc: 0.8240\n",
            "Epoch 20/20\n",
            "100/100 [==============================] - 17s 167ms/step - loss: 0.3886 - acc: 0.8150 - val_loss: 0.4193 - val_acc: 0.8120\n"
          ],
          "name": "stdout"
        }
      ]
    }
  ]
}